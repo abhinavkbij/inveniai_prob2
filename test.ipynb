{
 "cells": [
  {
   "cell_type": "markdown",
   "metadata": {},
   "source": [
    "# postgres python connections"
   ]
  },
  {
   "cell_type": "code",
   "execution_count": 20,
   "metadata": {},
   "outputs": [
    {
     "name": "stdout",
     "output_type": "stream",
     "text": [
      "Collecting psycopg2-binary\n",
      "  Obtaining dependency information for psycopg2-binary from https://files.pythonhosted.org/packages/20/81/4940235d18747f865d47eb38b98f38acc24b39278b12e20a0fdd20e0a132/psycopg2_binary-2.9.7-cp311-cp311-manylinux_2_17_x86_64.manylinux2014_x86_64.whl.metadata\n",
      "  Downloading psycopg2_binary-2.9.7-cp311-cp311-manylinux_2_17_x86_64.manylinux2014_x86_64.whl.metadata (4.4 kB)\n",
      "Downloading psycopg2_binary-2.9.7-cp311-cp311-manylinux_2_17_x86_64.manylinux2014_x86_64.whl (3.0 MB)\n",
      "\u001b[2K   \u001b[90m━━━━━━━━━━━━━━━━━━━━━━━━━━━━━━━━━━━━━━━━\u001b[0m \u001b[32m3.0/3.0 MB\u001b[0m \u001b[31m45.9 MB/s\u001b[0m eta \u001b[36m0:00:00\u001b[0ma \u001b[36m0:00:01\u001b[0m\n",
      "\u001b[?25hInstalling collected packages: psycopg2-binary\n",
      "Successfully installed psycopg2-binary-2.9.7\n"
     ]
    }
   ],
   "source": [
    "!pip install psycopg2-binary"
   ]
  },
  {
   "cell_type": "code",
   "execution_count": 55,
   "metadata": {},
   "outputs": [],
   "source": [
    "import psycopg2"
   ]
  },
  {
   "cell_type": "code",
   "execution_count": 56,
   "metadata": {},
   "outputs": [],
   "source": [
    "# Connect to your postgres DB\n",
    "conn = psycopg2.connect(\"dbname=neo4jdb user=postgres\")\n",
    "\n",
    "# Open a cursor to perform database operations\n",
    "cur = conn.cursor()\n",
    "\n",
    "# Execute a query\n",
    "# cur.execute(\"SELECT * FROM my_data\")\n",
    "\n",
    "# Retrieve query results\n",
    "# records = cur.fetchall()"
   ]
  },
  {
   "cell_type": "markdown",
   "metadata": {},
   "source": [
    "## Queries"
   ]
  },
  {
   "cell_type": "code",
   "execution_count": 64,
   "metadata": {},
   "outputs": [],
   "source": [
    "# query for employees table\n",
    "createTableQueryEmp = \\\n",
    "\"\"\"CREATE TABLE IF NOT EXISTS employees (\n",
    "    employee_id INT,\n",
    "    full_name VARCHAR,\n",
    "    job_title VARCHAR,\n",
    "    manager_id INT,\n",
    "    department_id INT,\n",
    "    collaborator_id INT\n",
    ");\"\"\"\n",
    "# insert query for employees table\n",
    "insertTableQueryEmp = \\\n",
    "\"\"\"\n",
    "INSERT INTO \n",
    "    employees(employee_id, full_name, job_title, manager_id, department_id, collaborator_id)\n",
    "VALUES\n",
    "    (1, 'John Doe', 'CEO', 1, 1, NULL),\n",
    "    (2, 'Jane Smith', 'CTO', 1, 1, NULL),\n",
    "    (3, 'Jim Brown', 'Data Analyst', 2, 2, 4),\n",
    "    (4, 'Judy White', 'Data Scientist', 2, 2, 3),\n",
    "    (5, 'Joe Black', 'Sr. Software Eng.', 2, 3, 6),\n",
    "    (6, 'Jennifer Green', 'Software Eng.', 5, 3, 5),\n",
    "    (7, 'Jason Blue', 'Product Manager', 1, 4, 8),\n",
    "    (8, 'Jane Orange', 'Product Designer', 7, 4, 7);\n",
    "\"\"\"\n",
    "\n",
    "# create query for departments\n",
    "createTableQueryDept = \\\n",
    "\"\"\"CREATE TABLE IF NOT EXISTS departments (\n",
    "    department_id INT,\n",
    "    name VARCHAR\n",
    ");\"\"\"\n",
    "# insert query for departments table\n",
    "insertTableQueryDept = \\\n",
    "\"\"\"\n",
    "INSERT INTO \n",
    "    departments(department_id, name)\n",
    "VALUES\n",
    "(1, 'Management'),\n",
    "(2, 'Data'),\n",
    "(3, 'Engineering'),\n",
    "(4, 'Products');\n",
    "\"\"\""
   ]
  },
  {
   "cell_type": "markdown",
   "metadata": {},
   "source": [
    "### Employees table"
   ]
  },
  {
   "cell_type": "code",
   "execution_count": 65,
   "metadata": {},
   "outputs": [],
   "source": [
    "# create employees table\n",
    "cur.execute(createTableQueryEmp)"
   ]
  },
  {
   "cell_type": "code",
   "execution_count": 66,
   "metadata": {},
   "outputs": [],
   "source": [
    "conn.commit()"
   ]
  },
  {
   "cell_type": "code",
   "execution_count": 67,
   "metadata": {},
   "outputs": [
    {
     "data": {
      "text/plain": [
       "[(1, 'John Doe', 'CEO', 1, 1, None),\n",
       " (2, 'Jane Smith', 'CTO', 1, 1, None),\n",
       " (3, 'Jim Brown', 'Data Analyst', 2, 2, 4),\n",
       " (4, 'Judy White', 'Data Scientist', 2, 2, 3),\n",
       " (5, 'Joe Black', 'Sr. Software Eng.', 2, 3, 6),\n",
       " (6, 'Jennifer Green', 'Software Eng.', 5, 3, 5),\n",
       " (7, 'Jason Blue', 'Product Manager', 1, 4, 8),\n",
       " (8, 'Jane Orange', 'Product Designer', 7, 4, 7)]"
      ]
     },
     "execution_count": 67,
     "metadata": {},
     "output_type": "execute_result"
    }
   ],
   "source": [
    "cur.execute(\"SELECT * FROM employees;\")\n",
    "cur.fetchall()"
   ]
  },
  {
   "cell_type": "code",
   "execution_count": 61,
   "metadata": {},
   "outputs": [],
   "source": [
    "cur.execute(insertTableQueryEmp)"
   ]
  },
  {
   "cell_type": "code",
   "execution_count": 62,
   "metadata": {},
   "outputs": [],
   "source": [
    "conn.commit()"
   ]
  },
  {
   "cell_type": "code",
   "execution_count": 68,
   "metadata": {},
   "outputs": [
    {
     "data": {
      "text/plain": [
       "[(1, 'John Doe', 'CEO', 1, 1, None),\n",
       " (2, 'Jane Smith', 'CTO', 1, 1, None),\n",
       " (3, 'Jim Brown', 'Data Analyst', 2, 2, 4),\n",
       " (4, 'Judy White', 'Data Scientist', 2, 2, 3),\n",
       " (5, 'Joe Black', 'Sr. Software Eng.', 2, 3, 6),\n",
       " (6, 'Jennifer Green', 'Software Eng.', 5, 3, 5),\n",
       " (7, 'Jason Blue', 'Product Manager', 1, 4, 8),\n",
       " (8, 'Jane Orange', 'Product Designer', 7, 4, 7)]"
      ]
     },
     "execution_count": 68,
     "metadata": {},
     "output_type": "execute_result"
    }
   ],
   "source": [
    "cur.execute(\"SELECT * FROM employees;\")\n",
    "cur.fetchall()"
   ]
  },
  {
   "cell_type": "markdown",
   "metadata": {},
   "source": [
    "### Departments table"
   ]
  },
  {
   "cell_type": "code",
   "execution_count": 69,
   "metadata": {},
   "outputs": [],
   "source": [
    "# create departments table\n",
    "cur.execute(createTableQueryDept)"
   ]
  },
  {
   "cell_type": "code",
   "execution_count": 71,
   "metadata": {},
   "outputs": [],
   "source": [
    "# insert into departments table\n",
    "cur.execute(insertTableQueryDept)"
   ]
  },
  {
   "cell_type": "code",
   "execution_count": 74,
   "metadata": {},
   "outputs": [
    {
     "data": {
      "text/plain": [
       "[(1, 'Management'),\n",
       " (2, 'Data'),\n",
       " (3, 'Engineering'),\n",
       " (4, 'Products'),\n",
       " (1, 'Management'),\n",
       " (2, 'Data'),\n",
       " (3, 'Engineering'),\n",
       " (4, 'Products')]"
      ]
     },
     "execution_count": 74,
     "metadata": {},
     "output_type": "execute_result"
    }
   ],
   "source": [
    "# check insert data\n",
    "cur.execute(\"SELECT * FROM departments;\")\n",
    "cur.fetchall()"
   ]
  },
  {
   "cell_type": "code",
   "execution_count": 75,
   "metadata": {},
   "outputs": [],
   "source": [
    "# make changes persistent\n",
    "conn.commit()"
   ]
  },
  {
   "cell_type": "markdown",
   "metadata": {},
   "source": [
    "### fetch data into csv's"
   ]
  },
  {
   "cell_type": "code",
   "execution_count": 85,
   "metadata": {},
   "outputs": [],
   "source": [
    "# fetch records from tables\n",
    "cur.execute(\"SELECT * FROM employees;\")\n",
    "employees = cur.fetchall()\n",
    "cur.execute(\"SELECT * FROM departments\")\n",
    "departments = cur.fetchall()"
   ]
  },
  {
   "cell_type": "code",
   "execution_count": 90,
   "metadata": {},
   "outputs": [],
   "source": [
    "# create df and save to csv\n",
    "empdf = pd.DataFrame(\n",
    "    data=employees, \n",
    "    columns=[\"employee_id\", \"full_name\", \"job_title\", \"manager_id\", \"department_id\", \"collaborator_id\"])\n",
    "deptdf = pd.DataFrame(\n",
    "    data=departments,\n",
    "    columns=[\"department_id\", \"name\"])"
   ]
  },
  {
   "cell_type": "code",
   "execution_count": 94,
   "metadata": {},
   "outputs": [],
   "source": [
    "# save to disk into csv's\n",
    "empdf.to_csv(\"employees.csv\", index=False)\n",
    "deptdf.to_csv(\"departments.csv\", index=False)"
   ]
  },
  {
   "cell_type": "code",
   "execution_count": 93,
   "metadata": {},
   "outputs": [],
   "source": [
    "# # close communications with db\n",
    "cur.close()\n",
    "conn.close()"
   ]
  },
  {
   "cell_type": "markdown",
   "metadata": {},
   "source": [
    "## queries for creating neo4j graph"
   ]
  },
  {
   "cell_type": "markdown",
   "metadata": {},
   "source": [
    "first you need to copy the `employees.csv` and `departments.csv` to /var/lib/neo4j/import"
   ]
  },
  {
   "cell_type": "code",
   "execution_count": null,
   "metadata": {},
   "outputs": [],
   "source": [
    "CREATE CONSTRAINT employeeIdConstraint FOR (employee:Employee) REQUIRE employee.id IS UNIQUE\n",
    "\n",
    "CREATE CONSTRAINT deptIdConstraint FOR (department:Department) REQUIRE department.id IS UNIQUE\n",
    "\n",
    "// Import employees\n",
    "LOAD CSV WITH HEADERS FROM \"file:///employees.csv\" AS row\n",
    "CREATE (:Employee {\n",
    "  `Employee ID`: toInteger(row.employee_id),\n",
    "  full_name: row.full_name,\n",
    "  Role: row.job_title\n",
    "});\n",
    "\n",
    "// Import departments\n",
    "LOAD CSV WITH HEADERS FROM \"file:///departments.csv\" AS row\n",
    "CREATE (:Department {\n",
    "  `Department ID`: toInteger(row.department_id),\n",
    "  name: row.name\n",
    "});\n",
    "\n",
    "// Create 'REPORTS_TO' relationships\n",
    "LOAD CSV WITH HEADERS FROM \"file:///employees.csv\" AS row\n",
    "WITH row\n",
    "WHERE row.manager_id IS NOT NULL\n",
    "MATCH (employee:Employee {employee_id: toInteger(row.employee_id)}),\n",
    "      (manager:Employee {employee_id: toInteger(row.manager_id)})\n",
    "CREATE (employee)-[:REPORTS_TO]->(manager);\n",
    "\n",
    "// Create 'BELONGS_TO' relationships\n",
    "LOAD CSV WITH HEADERS FROM \"file:///employees.csv\" AS row\n",
    "WITH row\n",
    "MATCH (employee:Employee {employee_id: toInteger(row.employee_id)}),\n",
    "      (department:Department {department_id: toInteger(row.department_id)})\n",
    "CREATE (employee)-[:BELONGS_TO]->(department);\n",
    "\n"
   ]
  },
  {
   "cell_type": "markdown",
   "metadata": {},
   "source": [
    "## tests/experiments"
   ]
  },
  {
   "cell_type": "code",
   "execution_count": null,
   "metadata": {},
   "outputs": [],
   "source": [
    "sudo neo4j-admin database import full --nodes=problem1/employees.csv --nodes=problem1/departments.csv --nodes=problem1/relationship.csv neo4j --overwrite-destination # --relation flag for relationships\n",
    "\n",
    "CREATE CONSTRAINT employeeIdConstraint FOR (employee:Employee) REQUIRE employee.id IS UNIQUE\n",
    "\n",
    "CREATE CONSTRAINT deptIdConstraint FOR (dept:Dept) REQUIRE dept.id IS UNIQUE\n",
    "# CREATE INDEX FOR (c:Dept) ON (c.name)\n",
    "\n",
    "LOAD CSV WITH HEADERS FROM \"file:///employees.csv\" AS csvLine\n",
    "CREATE (employee:Employee {employee_id: toInteger(csvLine.employee_id), full_name: csvLine.full_name, Role: csvLine.job_title})\n",
    "# CREATE (employee)-[:BELONGS_TO]->(dept)\n",
    "\n",
    "LOAD CSV WITH HEADERS FROM \"file:///departments.csv\" AS csvLine\n",
    "MERGE (department:Department {name: csvLine.name})\n",
    "CREATE (dept:Dept {department_id: toInteger(csvLine.department_id), name: csvLine.name})\n",
    "\n",
    "LOAD CSV WITH HEADERS FROM \"file:///employees.csv\"  AS row\n",
    "WITH row\n",
    "MATCH (employee:Employee {employee_id: toInteger(row.employee_id)}),\n",
    "      (manager:Employee {employee_id: toInteger(row.manager_id)})\n",
    "CREATE (employee)-[:REPORTS_TO]->(manager);\n",
    "\n",
    "LOAD CSV WITH HEADERS FROM \"file:///employees.csv\" AS row\n",
    "WITH row\n",
    "MATCH\n",
    "(department:Department {department_id: toInteger(row.department_id)}), (employee:Employee {employee_id: toInteger(row.employee_id)})\n",
    "CREATE (employee)-[:BELONGS_TO]->(department);\n",
    "\n",
    ":auto LOAD CSV WITH HEADERS FROM 'file:///relationship.csv' AS csvLine\n",
    "CALL {\n",
    " WITH csvLine\n",
    " MATCH (employee:Employee {id: toInteger(csvLine.employeeId)}), (dept:Dept {id: toInteger(csvLine.departmentId)})\n",
    " MATCH (employee:Employee {id: toInteger(csvLine.employeeId)}),(manager:Manager {id: toInteger(csvLine.managerId)}) \n",
    "CREATE (employee)-[:BELONGS]->(dept)\n",
    "CREATE (employee)-[:REPORTS]->(manager)\n",
    "} IN TRANSACTIONS OF 2 ROWS\n"
   ]
  },
  {
   "cell_type": "code",
   "execution_count": null,
   "metadata": {},
   "outputs": [],
   "source": [
    "# instead of manually creating below file use join"
   ]
  },
  {
   "cell_type": "code",
   "execution_count": 1,
   "metadata": {},
   "outputs": [
    {
     "name": "stdout",
     "output_type": "stream",
     "text": [
      "Writing relationship.csv\n"
     ]
    }
   ],
   "source": [
    "%%writefile relationship.csv\n",
    "employeeId, departmentId, managerId\n",
    "1,1,1\n",
    "2,1,1\n",
    "3,2,2\n",
    "4,2,2\n",
    "5,2,3\n",
    "6,5,3\n",
    "7,1,4\n",
    "8,7,4"
   ]
  },
  {
   "cell_type": "code",
   "execution_count": null,
   "metadata": {},
   "outputs": [],
   "source": []
  }
 ],
 "metadata": {
  "kernelspec": {
   "display_name": "venv",
   "language": "python",
   "name": "venv"
  },
  "language_info": {
   "codemirror_mode": {
    "name": "ipython",
    "version": 3
   },
   "file_extension": ".py",
   "mimetype": "text/x-python",
   "name": "python",
   "nbconvert_exporter": "python",
   "pygments_lexer": "ipython3",
   "version": "3.11.2"
  },
  "orig_nbformat": 4
 },
 "nbformat": 4,
 "nbformat_minor": 2
}
